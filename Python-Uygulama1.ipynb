{
  "nbformat": 4,
  "nbformat_minor": 0,
  "metadata": {
    "colab": {
      "name": "Untitled1.ipynb",
      "provenance": [],
      "collapsed_sections": []
    },
    "kernelspec": {
      "name": "python3",
      "display_name": "Python 3"
    },
    "language_info": {
      "name": "python"
    }
  },
  "cells": [
    {
      "cell_type": "markdown",
      "source": [
        "**Soru 0**\n",
        "\n",
        "3 tane string degisken olusturun ve bunlari camel case olarak isimlendirin."
      ],
      "metadata": {
        "id": "aYiZrmpvDWbn"
      }
    },
    {
      "cell_type": "code",
      "execution_count": null,
      "metadata": {
        "id": "ngU5KEVoCJmk"
      },
      "outputs": [],
      "source": [
        "ageString = 'yas'\n",
        "camelStr = 'abc'"
      ]
    },
    {
      "cell_type": "markdown",
      "source": [
        "**Soru1**\n",
        "\n",
        "3 tane Snake Case isme sahip integer veya float deger olusturun."
      ],
      "metadata": {
        "id": "G2i3_eTRDouK"
      }
    },
    {
      "cell_type": "code",
      "source": [
        "aylin_yas = 22\n",
        "ayse_boy =173.5"
      ],
      "metadata": {
        "id": "ujtqHbHoDwtL"
      },
      "execution_count": null,
      "outputs": []
    },
    {
      "cell_type": "markdown",
      "source": [
        "**Soru2**\n",
        "\n",
        "input fonksiyonu ile kullanicidan ismini ve yasini girmesini isteyin ve kullanıcı ismini print ettirin."
      ],
      "metadata": {
        "id": "zlNAo1ZND3ee"
      }
    },
    {
      "cell_type": "code",
      "source": [
        "print(\"Adınızı girin\")\n",
        "name = input()\n",
        "print(\"Yaş Bilgisini Giriniz\")\n",
        "age = int(input())\n",
        "\n",
        "print(\"Girdiginiz isim:\", name)"
      ],
      "metadata": {
        "colab": {
          "base_uri": "https://localhost:8080/"
        },
        "id": "dchqvBwBEBGU",
        "outputId": "7189b4c0-b5dc-49e0-f8eb-5e0f2c9e9169"
      },
      "execution_count": 5,
      "outputs": [
        {
          "output_type": "stream",
          "name": "stdout",
          "text": [
            "Adınızı girin\n",
            "Ayşe\n",
            "Yaş Bilgisini Giriniz\n",
            "22\n",
            "Girdiginiz isim: Ayşe\n"
          ]
        }
      ]
    },
    {
      "cell_type": "code",
      "source": [
        "print(\"Yaş Bilgisini Giriniz\")\n",
        "\n",
        "age = int(input())\n",
        "#print(\"Kullanıcının yaşı:\", age)"
      ],
      "metadata": {
        "id": "OTOnIjBbEZTE",
        "colab": {
          "base_uri": "https://localhost:8080/"
        },
        "outputId": "b08d4b5b-f593-4443-f889-8e1732021c22"
      },
      "execution_count": 3,
      "outputs": [
        {
          "name": "stdout",
          "output_type": "stream",
          "text": [
            "Yaş Bilgisini Giriniz\n",
            "32\n"
          ]
        }
      ]
    },
    {
      "cell_type": "markdown",
      "source": [
        "**Soru 3**\n",
        "\n",
        "Kullanicidan 2 tane sayi degeri alin, buyuk olan sayiyi yazdirin. Eger her 2 sayi da birbirine esit ise 2 sayinin esitlik yazin."
      ],
      "metadata": {
        "id": "ut1BorZTEcp6"
      }
    },
    {
      "cell_type": "code",
      "source": [
        "num1 = int(input(\"İlk sayıyı giriniz \"))\n",
        "num2 = int(input(\"İkinci sayıyı giriniz \"))\n",
        "\n",
        "if num1 >= num2:\n",
        "  if num1 == num2:\n",
        "    print(num1, 've', num2, 'eşittir')\n",
        "  else:\n",
        "    print('{} degeri {} degerinden büyüktür'. format(num1, num2))\n",
        "else:\n",
        "  print('{} değeri {} değerinden kücüktür.'. format(num1,num2))"
      ],
      "metadata": {
        "id": "NKSlPIscEqAW",
        "colab": {
          "base_uri": "https://localhost:8080/"
        },
        "outputId": "153300b1-facb-4b22-de3e-bdcb4020b18b"
      },
      "execution_count": 2,
      "outputs": [
        {
          "output_type": "stream",
          "name": "stdout",
          "text": [
            "İlk sayıyı giriniz 3\n",
            "İkinci sayıyı giriniz 5\n",
            "3 değeri 5 değerinden kücüktür.\n"
          ]
        }
      ]
    },
    {
      "cell_type": "markdown",
      "source": [
        "**Soru4**\n",
        "\n",
        "Verilen tam sayı 'n' için aşağıdaki koşulları gerçekleştiriniz:\n",
        "\n",
        "n tek ise, ekrana 'Weird' yazsın\n",
        "n çift ve 2 ile 7 arasında (2 ve 7 dahil) ise, ekrana 'Not Weird' yazsın\n",
        "n çift ve 8 ile 20 arasında (8 ve 20 dahil) ise, ekrana 'Weird' yazsın\n",
        "n çift ve 20'den büyük ise, ekrana 'Not Weird' yazsın."
      ],
      "metadata": {
        "id": "FZWV650BEqL0"
      }
    },
    {
      "cell_type": "code",
      "source": [
        "n = int(input())\n",
        "if n%2 == 0 & 2<=n<=7:\n",
        "    print(\"not weird\")\n",
        "elif n%2 !=0:\n",
        "    print(\"weird\")\n",
        "elif n%2 == 0 & 8<=n<=20:\n",
        "    print(\"weird\")\n",
        "elif (n%2 == 0) & (n>20):\n",
        "    print(\"not weird\")\n"
      ],
      "metadata": {
        "id": "OqCOSzvwHu82",
        "colab": {
          "base_uri": "https://localhost:8080/"
        },
        "outputId": "f867aa61-aea9-47a4-a903-bf9e7a13f345"
      },
      "execution_count": 1,
      "outputs": [
        {
          "output_type": "stream",
          "name": "stdout",
          "text": [
            "4\n",
            "not weird\n"
          ]
        }
      ]
    },
    {
      "cell_type": "markdown",
      "source": [
        "**Soru 5**\n",
        "\n",
        "Artık yıllar 4 rakamının katı olan yıllardır fakat bu kuralın bir ististası vardır.\n",
        "\n",
        "100'ün katı olan yıllardan sadece 400'e kalansız olarak bölünebilenler artık yıldır.\n",
        "Örneğin 1200 ve 2000 yılları artık yıllardır fakat 1800, 1300, 1900 ve 1500 artık yıl değildir.\n",
        "Bilgi: 4000'den sonraki yıllar için yeni bir istisna devreye giriyor fakat bu soru için onu göze almamıza gerek yoktur.\n",
        "\n",
        "Yukarıdaki tanıma göre artık yılı hesaplayan kod bloğunu yazınız.**kalın metin**"
      ],
      "metadata": {
        "id": "pDbk2E-yN3EK"
      }
    },
    {
      "cell_type": "code",
      "source": [
        "year = int(input('yil giriniz...'))\n",
        "\n",
        "leap = False\n",
        "\n",
        "if year % 4 == 0 and year % 100 != 0:\n",
        "  leap = True\n",
        "elif year % 100 == 0 and year % 400 != 0:\n",
        "  leap = False\n",
        "elif year % 400 == 0:\n",
        "  leap = True\n",
        "  \n",
        "print(leap)\n",
        "\n",
        "\n",
        "n = int(input())\n",
        "print(n % 4 == 0 and (n % 100 != 0 or n % 400 == 0))"
      ],
      "metadata": {
        "id": "AfN9v9RUN2p0"
      },
      "execution_count": null,
      "outputs": []
    },
    {
      "cell_type": "markdown",
      "source": [
        "**Soru 6**\n",
        "\n",
        "\n",
        "Kullanicidan 2 basamakli bir sayi girmesini isteyin,\n",
        "\n",
        "Ilk olarak girilen sayi 50'den buyuk mu kontrol edin, 50'den buyuk ise girilen sayi 1'ler basamagindaki sayinin karesinden buyuk mu diye kontrol edin. Buyukse A, kucukse B yazdirin. 50'den kucuk ise girilen sayi 1'ler basamaginin 10 katindan kucuk mu diye kontrol edin! Buyukse C, kucukse D yazdirin."
      ],
      "metadata": {
        "id": "l6xxvIvfQz-e"
      }
    },
    {
      "cell_type": "code",
      "source": [
        "givenInteger = int(input('Sayi giriniz...'))\n",
        "\n",
        "bb = givenInteger % 10\n",
        "\n",
        "if givenInteger > 50:\n",
        "  if givenInteger > bb**2:\n",
        "    print('A')\n",
        "  else:\n",
        "    print('B')\n",
        "else:\n",
        "  if givenInteger < bb * 10:\n",
        "    print('D')\n",
        "  else:\n",
        "    print('C')\n"
      ],
      "metadata": {
        "id": "Q0l65knPQ5NR",
        "colab": {
          "base_uri": "https://localhost:8080/"
        },
        "outputId": "c4095477-1ff7-4214-9fb2-d4b3b1d05566"
      },
      "execution_count": 9,
      "outputs": [
        {
          "output_type": "stream",
          "name": "stdout",
          "text": [
            "Sayi giriniz...2022\n",
            "A\n"
          ]
        }
      ]
    },
    {
      "cell_type": "markdown",
      "source": [
        "**Soru 7**\n",
        "\n",
        "Ic ice donguler kullanarak 0-10 arasi sayilarla carpim tablosu gosterimini olusuturun.\n",
        "2 x 5 = 10\n",
        "1 x 8 = 8 gibi."
      ],
      "metadata": {
        "id": "tgnA10jkQ5YG"
      }
    },
    {
      "cell_type": "code",
      "source": [
        "\n",
        "for i in range(0,11):\n",
        "    print(\"------------ \")\n",
        "    for j in range(0,11):\n",
        "        print(\"{} x {} = {}\".format(j,i,i*j))"
      ],
      "metadata": {
        "colab": {
          "base_uri": "https://localhost:8080/"
        },
        "id": "VAh9Q7H-Q6-N",
        "outputId": "95a75102-c256-4ffa-d978-9c874f41ddeb"
      },
      "execution_count": null,
      "outputs": [
        {
          "output_type": "stream",
          "name": "stdout",
          "text": [
            "------------ \n",
            "0 x 0 = 0\n",
            "1 x 0 = 0\n",
            "2 x 0 = 0\n",
            "3 x 0 = 0\n",
            "4 x 0 = 0\n",
            "5 x 0 = 0\n",
            "6 x 0 = 0\n",
            "7 x 0 = 0\n",
            "8 x 0 = 0\n",
            "9 x 0 = 0\n",
            "10 x 0 = 0\n",
            "------------ \n",
            "0 x 1 = 0\n",
            "1 x 1 = 1\n",
            "2 x 1 = 2\n",
            "3 x 1 = 3\n",
            "4 x 1 = 4\n",
            "5 x 1 = 5\n",
            "6 x 1 = 6\n",
            "7 x 1 = 7\n",
            "8 x 1 = 8\n",
            "9 x 1 = 9\n",
            "10 x 1 = 10\n",
            "------------ \n",
            "0 x 2 = 0\n",
            "1 x 2 = 2\n",
            "2 x 2 = 4\n",
            "3 x 2 = 6\n",
            "4 x 2 = 8\n",
            "5 x 2 = 10\n",
            "6 x 2 = 12\n",
            "7 x 2 = 14\n",
            "8 x 2 = 16\n",
            "9 x 2 = 18\n",
            "10 x 2 = 20\n",
            "------------ \n",
            "0 x 3 = 0\n",
            "1 x 3 = 3\n",
            "2 x 3 = 6\n",
            "3 x 3 = 9\n",
            "4 x 3 = 12\n",
            "5 x 3 = 15\n",
            "6 x 3 = 18\n",
            "7 x 3 = 21\n",
            "8 x 3 = 24\n",
            "9 x 3 = 27\n",
            "10 x 3 = 30\n",
            "------------ \n",
            "0 x 4 = 0\n",
            "1 x 4 = 4\n",
            "2 x 4 = 8\n",
            "3 x 4 = 12\n",
            "4 x 4 = 16\n",
            "5 x 4 = 20\n",
            "6 x 4 = 24\n",
            "7 x 4 = 28\n",
            "8 x 4 = 32\n",
            "9 x 4 = 36\n",
            "10 x 4 = 40\n",
            "------------ \n",
            "0 x 5 = 0\n",
            "1 x 5 = 5\n",
            "2 x 5 = 10\n",
            "3 x 5 = 15\n",
            "4 x 5 = 20\n",
            "5 x 5 = 25\n",
            "6 x 5 = 30\n",
            "7 x 5 = 35\n",
            "8 x 5 = 40\n",
            "9 x 5 = 45\n",
            "10 x 5 = 50\n",
            "------------ \n",
            "0 x 6 = 0\n",
            "1 x 6 = 6\n",
            "2 x 6 = 12\n",
            "3 x 6 = 18\n",
            "4 x 6 = 24\n",
            "5 x 6 = 30\n",
            "6 x 6 = 36\n",
            "7 x 6 = 42\n",
            "8 x 6 = 48\n",
            "9 x 6 = 54\n",
            "10 x 6 = 60\n",
            "------------ \n",
            "0 x 7 = 0\n",
            "1 x 7 = 7\n",
            "2 x 7 = 14\n",
            "3 x 7 = 21\n",
            "4 x 7 = 28\n",
            "5 x 7 = 35\n",
            "6 x 7 = 42\n",
            "7 x 7 = 49\n",
            "8 x 7 = 56\n",
            "9 x 7 = 63\n",
            "10 x 7 = 70\n",
            "------------ \n",
            "0 x 8 = 0\n",
            "1 x 8 = 8\n",
            "2 x 8 = 16\n",
            "3 x 8 = 24\n",
            "4 x 8 = 32\n",
            "5 x 8 = 40\n",
            "6 x 8 = 48\n",
            "7 x 8 = 56\n",
            "8 x 8 = 64\n",
            "9 x 8 = 72\n",
            "10 x 8 = 80\n",
            "------------ \n",
            "0 x 9 = 0\n",
            "1 x 9 = 9\n",
            "2 x 9 = 18\n",
            "3 x 9 = 27\n",
            "4 x 9 = 36\n",
            "5 x 9 = 45\n",
            "6 x 9 = 54\n",
            "7 x 9 = 63\n",
            "8 x 9 = 72\n",
            "9 x 9 = 81\n",
            "10 x 9 = 90\n",
            "------------ \n",
            "0 x 10 = 0\n",
            "1 x 10 = 10\n",
            "2 x 10 = 20\n",
            "3 x 10 = 30\n",
            "4 x 10 = 40\n",
            "5 x 10 = 50\n",
            "6 x 10 = 60\n",
            "7 x 10 = 70\n",
            "8 x 10 = 80\n",
            "9 x 10 = 90\n",
            "10 x 10 = 100\n"
          ]
        }
      ]
    },
    {
      "cell_type": "markdown",
      "source": [
        "**Soru 8**\n",
        "\n",
        "Kullanicidan 2 tane sayi girmesini isteyin. girilen 2 sayinin 0 - 200 arasindaki ortak katlarini print ettirin.\n",
        "\n",
        "bir yontem olarak for i in range(a, b, c): gibi bir dongu ile de cozum sununuz.\n",
        "(Soruya 2 farkli cozum sunmaniz bekleniyor.)"
      ],
      "metadata": {
        "id": "iU8LoWlnQ9ht"
      }
    },
    {
      "cell_type": "code",
      "source": [
        "s1 = int(input(\"Birinci sayıyı girin:\"))\n",
        "s2 = int(input(\"İkinci sayıyı girin:\"))\n",
        "\n",
        "for i in range(0,200,s2):\n",
        "  if(i % s1 == 0):\n",
        "    print(i)\n"
      ],
      "metadata": {
        "colab": {
          "base_uri": "https://localhost:8080/"
        },
        "id": "HBM6LNgsQ_HH",
        "outputId": "852010be-61f9-4e49-e380-bc2303999c4c"
      },
      "execution_count": 12,
      "outputs": [
        {
          "output_type": "stream",
          "name": "stdout",
          "text": [
            "Birinci sayıyı girin:23\n",
            "İkinci sayıyı girin:34\n",
            "0\n"
          ]
        }
      ]
    },
    {
      "cell_type": "markdown",
      "source": [
        "**Soru 9**\n",
        "\n",
        "Scaklik Donusutrucu\n",
        "Kullanicidan ilk olarak bir celcius sicaklik degeri girmesini isteyin. Girilen degerin hangi sicaklik turune donusturulecegini ayriyeten girmesini isteyin. Ve Gerekli donusumu yapan fonksiyonu tasarlayin.\n",
        "Ipucu: C / 100 = (F - 32) / 180 = (K - 273.15) / 100 -"
      ],
      "metadata": {
        "id": "O1TmNsMcQ_Ph"
      }
    },
    {
      "cell_type": "code",
      "source": [
        "a = int(input(\"Sıcaklığı Celcius Olarak Giriniz\"))\n",
        "b = input(\"Sıcaklık Neye Dönüştürülsün? F/K\")\n",
        "\n",
        "if b == \"F\":\n",
        "    print((a/100)*180+32)\n",
        "elif b == \"K\":\n",
        "    print(a + 273.15)\n",
        "else:\n",
        "    print(\"Fahrenheit (°F) veya Kelvin (°K) için seçim yapınız\")\n"
      ],
      "metadata": {
        "id": "l_xfSyDERCf2",
        "colab": {
          "base_uri": "https://localhost:8080/"
        },
        "outputId": "ff034fa2-2ffb-4e17-90d2-003a004c3a80"
      },
      "execution_count": 13,
      "outputs": [
        {
          "output_type": "stream",
          "name": "stdout",
          "text": [
            "Sıcaklığı Celcius Olarak Giriniz34\n",
            "Sıcaklık Neye Dönüştürülsün? F/KF\n",
            "93.2\n"
          ]
        }
      ]
    },
    {
      "cell_type": "markdown",
      "source": [
        ""
      ],
      "metadata": {
        "id": "3vPkFT3wRE7u"
      }
    },
    {
      "cell_type": "markdown",
      "source": [
        "**Soru 10**\n",
        "\n",
        "BMI Hesaplanmasi ve sonucun zayif, cok zayif..... olarak print ettirilmesi\n",
        "Kullanicidan kilosu ve boyunu girmesini isteyin. Ve BMI' degerini hesaplayip bmi'degerinin dahil oldugu araliga gore kisinin kilo durumunu print ettirin. Ipucu: (kilo) / (boy ^ 2) 100 / (1.75^2) gibi\n",
        "0 - 18,4: Zayıf\n",
        "18.5 - 24.9 Normal\n",
        "25,0 - 29,9: Fazla Kilolu\n",
        "30,0 - 34,9: Şişman (Obez) - I. Sınıf\n",
        "35,0 - 44,9: Şişman (Obez) - II. Sınıf\n",
        "45,0 ve üstü: Aşırı Şişman (Aşırı Obez) - III. Sınıf"
      ],
      "metadata": {
        "id": "r3Zi7g3-RFGW"
      }
    },
    {
      "cell_type": "code",
      "source": [
        "weight = float(input('kilonuzu giriniz...'))\n",
        "height = float(input('boyunuzu giriniz'))\n",
        "\n",
        "bmi = weight / (height**2)\n",
        "\n",
        "if 0 < bmi < 18.5:\n",
        "  print('Zayif')\n",
        "elif 18.5 <= bmi < 25:\n",
        "  print('Normal')\n",
        "elif 25 <= bmi < 30:\n",
        "  print('Fazla kilolu')\n",
        "elif 30 <= bmi < 35:\n",
        "  print('Obez 1.Sinif')\n",
        "elif 35 <= bmi < 45:\n",
        "  print('Obez 2.Sinif')\n",
        "elif 45 < bmi:\n",
        "  print('Obez 3.Sinif')\n",
        "\n",
        "print(bmi)"
      ],
      "metadata": {
        "id": "NgpRBBEMRG8K",
        "colab": {
          "base_uri": "https://localhost:8080/"
        },
        "outputId": "5a3b3b92-a2b2-4c93-c319-4539ea964332"
      },
      "execution_count": 14,
      "outputs": [
        {
          "output_type": "stream",
          "name": "stdout",
          "text": [
            "kilonuzu giriniz...50\n",
            "boyunuzu giriniz160\n",
            "Zayif\n",
            "0.001953125\n"
          ]
        }
      ]
    },
    {
      "cell_type": "markdown",
      "source": [
        "**Soru 11**\n",
        "\n",
        "Kullanicidan maasini ve cocuk sayisini girmesini isteyin. Bu kisinin alacagi prim miktari = Maasinin %1'i x 3.8 x Cocuk sayisidir.\n",
        "\n",
        "Kisilerin alacagi prim miktarini hesaplayiniz."
      ],
      "metadata": {
        "id": "D5SDWM8URJDz"
      }
    },
    {
      "cell_type": "code",
      "source": [
        "maas = float(input(\"Lütfen maaşınızı girin: \"))\n",
        "cocuk = int(input(\"Lütfen çocuk sayınızı giriniz: \"))\n",
        "\n",
        "prim = (((maas)/100)*3.8*cocuk)\n",
        "print(prim)\n"
      ],
      "metadata": {
        "id": "1H0LCGwbRKZ_",
        "colab": {
          "base_uri": "https://localhost:8080/"
        },
        "outputId": "8ba2e8d0-348a-4b79-dee4-b480250d2ebf"
      },
      "execution_count": 15,
      "outputs": [
        {
          "output_type": "stream",
          "name": "stdout",
          "text": [
            "Lütfen maaşınızı girin: 30000\n",
            "Lütfen çocuk sayınızı giriniz: 0\n",
            "0.0\n"
          ]
        }
      ]
    }
  ]
}