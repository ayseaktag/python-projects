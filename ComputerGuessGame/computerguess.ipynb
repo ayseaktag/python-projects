{
  "nbformat": 4,
  "nbformat_minor": 0,
  "metadata": {
    "colab": {
      "name": "computerguess.ipynb",
      "provenance": []
    },
    "kernelspec": {
      "name": "python3",
      "display_name": "Python 3"
    },
    "language_info": {
      "name": "python"
    }
  },
  "cells": [
    {
      "cell_type": "markdown",
      "source": [
        "COMPUTER GUESS GAME"
      ],
      "metadata": {
        "id": "TU8uSxPoUiV5"
      }
    },
    {
      "cell_type": "code",
      "execution_count": 4,
      "metadata": {
        "colab": {
          "base_uri": "https://localhost:8080/"
        },
        "id": "bLwMm5nDUhpJ",
        "outputId": "acf611c7-1b99-44e7-9c7b-b983fd49b0c9"
      },
      "outputs": [
        {
          "output_type": "stream",
          "name": "stdout",
          "text": [
            " 53 sayısı aklında tuttuğun sayıdan büyükse (b), küçükse (k), aynıysa (d) yazınız. Oyundan çıkmak isterseniz, başka değer giriniz..b\n",
            " 51 sayısı aklında tuttuğun sayıdan büyükse (b), küçükse (k), aynıysa (d) yazınız. Oyundan çıkmak isterseniz, başka değer giriniz..b\n",
            " 39 sayısı aklında tuttuğun sayıdan büyükse (b), küçükse (k), aynıysa (d) yazınız. Oyundan çıkmak isterseniz, başka değer giriniz..b\n",
            " 13 sayısı aklında tuttuğun sayıdan büyükse (b), küçükse (k), aynıysa (d) yazınız. Oyundan çıkmak isterseniz, başka değer giriniz..k\n",
            " 30 sayısı aklında tuttuğun sayıdan büyükse (b), küçükse (k), aynıysa (d) yazınız. Oyundan çıkmak isterseniz, başka değer giriniz..d\n",
            " 36 sayısı aklında tuttuğun sayıdan büyükse (b), küçükse (k), aynıysa (d) yazınız. Oyundan çıkmak isterseniz, başka değer giriniz..k\n",
            " 37 sayısı aklında tuttuğun sayıdan büyükse (b), küçükse (k), aynıysa (d) yazınız. Oyundan çıkmak isterseniz, başka değer giriniz..l\n",
            "Oyundan ayrılıyorsun!!\n"
          ]
        }
      ],
      "source": [
        "import random\n",
        "\n",
        "def computer_guess(number):\n",
        "    start, end = 1, 100\n",
        "    back = ''\n",
        "    while back != \"c\":\n",
        "        if start <= end:\n",
        "            guess = random.randint(start, end)\n",
        "        else:\n",
        "            guess = start\n",
        "\n",
        "        back = input(f\" {guess} sayısı aklında tuttuğun sayıdan büyükse (b), küçükse (k), aynıysa (d) yazınız. Oyundan çıkmak isterseniz, başka değer giriniz..\").lower()\n",
        "        if back == 'b':\n",
        "            end = guess - 1\n",
        "        elif back == 'k':\n",
        "            start = guess + 1\n",
        "        elif back != 'd':\n",
        "            print(\"Oyundan ayrılıyorsun!!\")\n",
        "            break\n",
        "    else:\n",
        "        print('Tebrikler,doğru tahmin!')\n",
        "\n",
        "computer_guess(12)"
      ]
    }
  ]
}