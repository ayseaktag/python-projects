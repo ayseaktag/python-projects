{
  "nbformat": 4,
  "nbformat_minor": 0,
  "metadata": {
    "colab": {
      "name": "Python-Uygulama2.ipynb",
      "provenance": [],
      "collapsed_sections": []
    },
    "kernelspec": {
      "name": "python3",
      "display_name": "Python 3"
    },
    "language_info": {
      "name": "python"
    }
  },
  "cells": [
    {
      "cell_type": "markdown",
      "source": [
        "**Soru1**\n",
        "\n",
        "Verilen tam sayı 'n' için n'den küçük olan ve negatif olmayan sayıların karelerini ekrana yazdırınız.\\ \\ Örneğin 6 sayısı için ekranda şu şekilde bir çıktı olmalıdır ;\\ 0 \\ 1 \\ 4 \\ 9 \\ 16 \\ 25\n",
        "```\n",
        "\n"
      ],
      "metadata": {
        "id": "UqQHiWfoOVhM"
      }
    },
    {
      "cell_type": "code",
      "execution_count": null,
      "metadata": {
        "colab": {
          "base_uri": "https://localhost:8080/"
        },
        "id": "WDbLs0zEOJqd",
        "outputId": "f94b2185-fc89-4052-a724-f4c3331ba979"
      },
      "outputs": [
        {
          "output_type": "stream",
          "name": "stdout",
          "text": [
            "Bir sayı girin: 4\n",
            "0\n",
            "1\n",
            "4\n",
            "9\n",
            "16\n"
          ]
        }
      ],
      "source": [
        "n = int(input(\"Bir sayı girin: \"))\n",
        "for i in range(0,n+1):\n",
        "  print(i*i)"
      ]
    },
    {
      "cell_type": "markdown",
      "source": [
        "**Soru 2**\n",
        "\n",
        "\n",
        "Artık yıllar 4 rakamının katı olan yıllardır fakat bu kuralın bir ististası vardır.\n",
        "\n",
        "100'ün katı olan yıllardan sadece 400'e kalansız olarak bölünebilenler artık yıldır.\n",
        "Örneğin 1200 ve 2000 yılları artık yıllardır fakat 1800, 1300, 1900 ve 1500 artık yıl değildir.\n",
        "Bilgi: 4000'den sonraki yıllar için yeni bir istisna devreye giriyor fakat bu soru için onu göze almamıza gerek yoktur.\n",
        "\n",
        "Yukarıdaki tanıma göre artık yılı hesaplayan fonksiyonu yazınız."
      ],
      "metadata": {
        "id": "1Dbr3mAFRF9A"
      }
    },
    {
      "cell_type": "code",
      "source": [
        "yil=int(input(\"Yılı giriniz: \"))\n",
        "if(yil % 4 == 0 & (yil % 100 != 0 | yil % 400 == 0)):\n",
        "    print(\"Artık Yıldır\")\n",
        "else:\n",
        "    print(\"Artık yıl değildir\")"
      ],
      "metadata": {
        "colab": {
          "base_uri": "https://localhost:8080/"
        },
        "id": "C6WfcPmxRL9C",
        "outputId": "87278fef-ec0a-4264-d01d-f64c638dd72d"
      },
      "execution_count": 1,
      "outputs": [
        {
          "output_type": "stream",
          "name": "stdout",
          "text": [
            "Yılı giriniz: 2022\n",
            "Artık yıl değildir\n"
          ]
        }
      ]
    },
    {
      "cell_type": "markdown",
      "source": [
        "**Soru 3**\n",
        "\n",
        "Kullanıcı 'q' harfine basmadığı sürece kullanıcıdan sürekli olarak tam sayı alınız. Aldığınız tam sayıların;\n",
        "\n",
        "Toplamını yazdırınız.\n",
        "En büyüğünü yazdırınız.\n",
        "En küçüğünü yazdırınız.\n",
        "Ortalamasını yazdırınız."
      ],
      "metadata": {
        "id": "9l2RiOKoSn5D"
      }
    },
    {
      "cell_type": "code",
      "source": [
        "total = counter = 0\n",
        "enbuyuk = enkucuk = None\n",
        "\n",
        "while True:\n",
        "  userInput = input('Tam sayi giriniz...')\n",
        "  counter += 1\n",
        "  if userInput == 'q':\n",
        "    break\n",
        "  userInput = int(userInput)\n",
        "\n",
        "  if enbuyuk is None or  userInput > enbuyuk:\n",
        "    enbuyuk = userInput\n",
        "\n",
        "  if enkucuk is None or userInput < enkucuk:\n",
        "    enkucuk = userInput\n",
        "  \n",
        "  total += userInput\n",
        "\n",
        "print(f'Toplam: {total}')\n",
        "print(f'En kucuk: {enkucuk}')\n",
        "print(f'En buyuk: {enbuyuk}')\n",
        "print(f'Ortalama: {total/counter if counter > 0 else 0}')\n"
      ],
      "metadata": {
        "colab": {
          "base_uri": "https://localhost:8080/"
        },
        "id": "g9Qz5stASv7W",
        "outputId": "74a43cc5-a72a-42c4-915b-607a2963ae05"
      },
      "execution_count": null,
      "outputs": [
        {
          "output_type": "stream",
          "name": "stdout",
          "text": [
            "Tam sayi giriniz...3\n",
            "Tam sayi giriniz...4\n",
            "Tam sayi giriniz...5\n",
            "Tam sayi giriniz...6\n",
            "Tam sayi giriniz...7\n",
            "Tam sayi giriniz...3\n",
            "Tam sayi giriniz...5\n",
            "Tam sayi giriniz...6\n",
            "Tam sayi giriniz...3\n",
            "Tam sayi giriniz...q\n",
            "Toplam: 42\n",
            "En kucuk: 3\n",
            "En buyuk: 7\n"
          ]
        }
      ]
    },
    {
      "cell_type": "markdown",
      "source": [
        "**Soru 4**\n",
        "\n",
        "```\n",
        "\n",
        "Girilen sayının faktöriyelini hesaplayan kod bloğunu while ve for döngüsü ile yapınız.\n",
        "```\n",
        "\n"
      ],
      "metadata": {
        "id": "ZThILq1mTDAe"
      }
    },
    {
      "cell_type": "code",
      "source": [
        "num=int(input(\"Faktöriyeli Hesaplanacak Sayıyı Giriniz : \"))\n",
        "factorial = 1\n",
        " \n",
        "if num < 0:\n",
        "   print(\"Negatif sayıların faktoriyeli hesaplanamaz!\")\n",
        "elif num == 0:\n",
        "   print(\"0! = 1\")\n",
        "else:\n",
        "   for i in range(1,num + 1):\n",
        "       factorial = factorial*i\n",
        "   print(\" Girdiğiniz Sayının faktoriyeli : \",factorial)"
      ],
      "metadata": {
        "colab": {
          "base_uri": "https://localhost:8080/"
        },
        "id": "JRznnJimTDSj",
        "outputId": "73c242a5-2f72-4002-c457-f7cbc7e95068"
      },
      "execution_count": null,
      "outputs": [
        {
          "output_type": "stream",
          "name": "stdout",
          "text": [
            "Faktöriyeli Hesaplanacak Sayıyı Giriniz : 6\n",
            " Girdiğiniz Sayının faktoriyeli :  720\n"
          ]
        }
      ]
    },
    {
      "cell_type": "code",
      "source": [
        "num = int (input(\"Lütfen faktöriyelini bulmak istediğiniz sayıyı giriniz: \"))\n",
        "factorial = 1\n",
        "i=1\n",
        "if num >= 0:\n",
        "  while i <= num:\n",
        "      factorial*=i\n",
        "      i+=1\n",
        "  print(\"Girdiğiniz sayının faktöriyeli:\",factorial)\n",
        "else:\n",
        "  print (\"Negatif sayıların faktöriyeli olmaz!\")"
      ],
      "metadata": {
        "colab": {
          "base_uri": "https://localhost:8080/"
        },
        "id": "yqOLM4zoTWSq",
        "outputId": "de9a3514-2a55-4334-a0ee-344eb91ddfad"
      },
      "execution_count": null,
      "outputs": [
        {
          "output_type": "stream",
          "name": "stdout",
          "text": [
            "Lütfen faktöriyelini bulmak istediğiniz sayıyı giriniz...\n",
            "6\n",
            "Girdiğiniz sayının faktöriyeli: 720\n"
          ]
        }
      ]
    },
    {
      "cell_type": "markdown",
      "source": [
        "**Soru 5**\n",
        "\n",
        "Kullanıcıdan alınan sayının tam bölenlerini ekrana yazdırınız."
      ],
      "metadata": {
        "id": "G8IwFA0BT4-f"
      }
    },
    {
      "cell_type": "code",
      "source": [
        "sayi = int(input(\"Bir sayı giriniz:  \"))\n",
        " \n",
        "for i in range(1,sayi+1):\n",
        "    if sayi % i == 0:\n",
        "        print(\"Girilen sayının tam bölenleri:\",i)"
      ],
      "metadata": {
        "colab": {
          "base_uri": "https://localhost:8080/"
        },
        "id": "Ax9qq_-kT8mG",
        "outputId": "038ab438-700f-408b-fd9f-01c422317375"
      },
      "execution_count": null,
      "outputs": [
        {
          "output_type": "stream",
          "name": "stdout",
          "text": [
            "Bir sayı giriniz:  6\n",
            "Girilen sayının tam bölenleri: 1\n",
            "Girilen sayının tam bölenleri: 2\n",
            "Girilen sayının tam bölenleri: 3\n",
            "Girilen sayının tam bölenleri: 6\n"
          ]
        }
      ]
    },
    {
      "cell_type": "markdown",
      "source": [
        "**Soru 6**\n",
        "\n",
        "Verilen iki sayının EBOB'unu ve EKOK'unu hesaplayın."
      ],
      "metadata": {
        "id": "Gx8TSbXFUIfg"
      }
    },
    {
      "cell_type": "code",
      "source": [
        "sayi1 = int(input(\"Birinci Sayıyı Giriniz : \"))\n",
        "sayi2 = int(input(\"İkinci Sayıyı Giriniz : \"))\n",
        " \n",
        "if (sayi1 > sayi2):\n",
        "    kucuksayi = sayi2\n",
        "else:\n",
        "    kucuksayi = sayi1\n",
        "for i in range(1,kucuksayi+1):\n",
        "    if (sayi1 % i==0) and (sayi2 % i == 0):\n",
        "        ebob = i\n",
        "        ekok = (sayi1 * sayi2) // ebob\n",
        "        \n",
        "print (\"EBOB:\", ebob)\n",
        "print (\"EKOK:\", ekok)"
      ],
      "metadata": {
        "colab": {
          "base_uri": "https://localhost:8080/"
        },
        "id": "TlWboBXIUL7i",
        "outputId": "591d4397-cbdc-448e-95be-8d14b9c52433"
      },
      "execution_count": null,
      "outputs": [
        {
          "output_type": "stream",
          "name": "stdout",
          "text": [
            "Birinci Sayıyı Giriniz : 20\n",
            "İkinci Sayıyı Giriniz : 5\n",
            "EBOB: 5\n",
            "EKOK: 20\n"
          ]
        }
      ]
    },
    {
      "cell_type": "markdown",
      "source": [
        "**Soru 7**\n",
        "\n",
        "Aşağıdaki şekli oluşturunuz\n"
      ],
      "metadata": {
        "id": "D4Y6hqxwUaLj"
      }
    },
    {
      "cell_type": "markdown",
      "source": [
        "![image.png](data:image/png;base64,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)"
      ],
      "metadata": {
        "id": "XsfYyM2dUk8P"
      }
    },
    {
      "cell_type": "code",
      "source": [
        "yildizSayisi=int(input(\"boyut gir :\"))\n",
        "for i in range(yildizSayisi):\n",
        "    for j in range((yildizSayisi)-i):\n",
        "        print(\" \",end=\"\")\n",
        "    for k in range(i*2-1):\n",
        "        print(\"*\",end=\"\")\n",
        "    print()\n",
        "    \n",
        "for i in range(yildizSayisi,0,-1):\n",
        "    for j in range((yildizSayisi)-i):\n",
        "        print(\" \",end=\"\")\n",
        "    for k in range(i*2-1):\n",
        "        print(\"*\",end=\"\")\n",
        "    print()"
      ],
      "metadata": {
        "colab": {
          "base_uri": "https://localhost:8080/"
        },
        "id": "PESTSBQ3UnPB",
        "outputId": "96c95dcf-ea53-493a-f72c-19fd4a18b985"
      },
      "execution_count": null,
      "outputs": [
        {
          "output_type": "stream",
          "name": "stdout",
          "text": [
            "boyut gir :6\n",
            "      \n",
            "     *\n",
            "    ***\n",
            "   *****\n",
            "  *******\n",
            " *********\n",
            "***********\n",
            " *********\n",
            "  *******\n",
            "   *****\n",
            "    ***\n",
            "     *\n"
          ]
        }
      ]
    },
    {
      "cell_type": "markdown",
      "source": [
        "**Soru 8**\n",
        "\n",
        "Aşağıdaki şekli oluşturunuz"
      ],
      "metadata": {
        "id": "4yNPi1YWU1rv"
      }
    },
    {
      "cell_type": "markdown",
      "source": [
        "![image.png](data:image/png;base64,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)"
      ],
      "metadata": {
        "id": "yKLIGHLQU7G6"
      }
    },
    {
      "cell_type": "code",
      "source": [
        "rowCount = 10\n",
        "for row in range(rowCount):\n",
        "  print(' ' * (rowCount - row), end = ' ')\n",
        "  for j in range(row):\n",
        "    print(j,end=\"\")\n",
        "  for k in range(j-1,-1,-1):\n",
        "    if row != 0:\n",
        "      print(k, end= '')\n",
        "  print()"
      ],
      "metadata": {
        "colab": {
          "base_uri": "https://localhost:8080/"
        },
        "id": "eP-zFim6-FfY",
        "outputId": "87fe56ca-e72d-4422-c1c9-d8ec23ebe6b9"
      },
      "execution_count": null,
      "outputs": [
        {
          "output_type": "stream",
          "name": "stdout",
          "text": [
            "           \n",
            "          0\n",
            "         010\n",
            "        01210\n",
            "       0123210\n",
            "      012343210\n",
            "     01234543210\n",
            "    0123456543210\n",
            "   012345676543210\n",
            "  01234567876543210\n"
          ]
        }
      ]
    },
    {
      "cell_type": "markdown",
      "source": [
        "**Soru 9**\n",
        "\n",
        "Kullanicidan 0-20 araliginda bir sayi aliniz, ve alinan sayiya kadar olan sayilardan olusan alttaki piramiti olusturunuz.\n",
        "Ornek: input 5 ise"
      ],
      "metadata": {
        "id": "ZbwRs-8uVxG_"
      }
    },
    {
      "cell_type": "markdown",
      "source": [
        "![image.png](data:image/png;base64,iVBORw0KGgoAAAANSUhEUgAAAKMAAACFCAYAAAA3mUirAAAAAXNSR0IArs4c6QAAAARnQU1BAACxjwv8YQUAAAAJcEhZcwAADsMAAA7DAcdvqGQAAATBSURBVHhe7d3BahtXGIbhv70HgwvpQlp7E29MTfcihmgTtzdQDDZqqIK2pQuTrbEcW3jROyjOwgrE6AZsTLC06VoUUnCwLkI9Z3RsOcEyUSXNfHPmfUAIjckgh9ejOZP5nW+GjgECvg3PQOaIETKIETKIETKIETKIETKIETKIETKIETKIETKyi/FT23bKZSuXd6z9KWxDoWUQ48Dav7oIX5ttHVTCNiCDGLuHa3ZWubT+UdW+D9sAL/UYV1/27fj5UngFjLGAgQxihAxihAxihAxihAxihIzUB7IG73Zs7bdOePWFjaZdHlWNCz/FxHQgZPAxDRnECBnECBnECBnECBnECBnECBnECBnECBnECBnECBnZxTivUdW7/dw+GH3NqwxinOOoqg9x/cyenfet3x89Tl51rL5OkHmUeoxzHVVdrtpx/9iqy+G1s/pT0yrWsbMPg7AFeZF6jIyqYpL4FjDXH91x0WzlCcHnTWQxdq31Ys89N+yHp6MtyI+IYnQhljdtz50xNs9rthq2Ij8iidGv0H2I7pj49vMFDfIjghh9iGtWf+9D7FuNj+fcynmMhBiTfI+q9lpWThYsD/Hnjnxk5wmjqpAR2aUd5BkxQgYxQgYxQgYxQgYxQgYxQgYxQgYxQgYxQgYxQkZ2McqNqoapxc/2VbZWL3wZi+dvlEjXzfC0VhqWaqfDq/b2sFTaHp5ehy9N6/p0uP3Fn7964/Y9yz7vuUneX2l41A0bsFCpHxnzNKq69HzLGu75738Ze01D6jEyqopJ4lvAzHFUtXvo52oatsUPTyoii3H2UdXu4XjxsrnPpGGaIopxPqOq/jTi9vf29M+f2dm6C/OwG76KRYokxgWNqroF0q7/5VT7Fy51LFoEMTIhGIucx7jgEHutZJKxcvAz540pYFT1zu05530NO+mzgEkLo6qQEdmlHeQZMUIGMUIGMUIGMUIGMUIGMUIGMUIGMUIGMUIGMUJGdjEWaVT13ntk9PUR/kaJdBVtVDV8v24/jL0+LvUjY+FGVXt/Wf19xZpv/fvCY1KPsVijqqMBscrBrlW/C5swUXwLGKFR1eTPbzRtl1HXrxJZjEKjqm7R8ue+eye/THHnesFFFKPSqKpbmb+uW+fVCQNiU4gkRq1R1cG7P9yipWEnL5memUYEMaqNqg7souPPWvdsM3zcJ491d6T0W1+MXnO98QHhEk8mRtfxZrkmOL6Gt5Drd92jZN/b7ZuwYQbJNVGuMz6GUdU7Cx5V9f8K446OKxJHb02MqkJGfNcZkVvECBnECBnECBnECBnECBnECBnECBnECBnECBnECBnZxcio6tfzN4Tce0/jR2uq+yzl+Rsl0sWo6tSSW9nm8z0pS/3IyKgqJkk9RkZVMUl8C5hoR1U7VvfDYbGeLzqRxRjpqOrT2nhiMXlcWnPDz9jMuPgTE1GMRRpVXbLq7/M7N1YRSYwFHFVdfmIr7qnzz8fR6whEEGNBR1V7F6Mfvh8jms0Ol3gywajq/xT2VXpzFTbEgVHVO7qjqg/9ncX4f2szqgoZ8V1nRG4RI2QQI2QQI2QQI2QQI2QQI2QQI2QQI2QQI2QQI2QQI2QQI2QQI2QQI2QQI2QQI2QQI0SY/QfnZIKzGDSDPAAAAABJRU5ErkJggg==)"
      ],
      "metadata": {
        "id": "FeJ6gNOdV9zD"
      }
    },
    {
      "cell_type": "code",
      "source": [
        "num = int(input(\"boyut gir :\"))\n",
        "num = 1\n",
        "for i in range(5):\n",
        "    for j in range(i+1):\n",
        "        print(num, end=\" \")\n",
        "        num = num+1\n",
        "    num = 1\n",
        "    print()"
      ],
      "metadata": {
        "colab": {
          "base_uri": "https://localhost:8080/"
        },
        "id": "tq1nN5aXV-ZK",
        "outputId": "9ee15e96-1880-4f2f-e986-f746519b0d79"
      },
      "execution_count": null,
      "outputs": [
        {
          "output_type": "stream",
          "name": "stdout",
          "text": [
            "boyut gir :6\n",
            "1 \n",
            "1 2 \n",
            "1 2 3 \n",
            "1 2 3 4 \n",
            "1 2 3 4 5 \n"
          ]
        }
      ]
    },
    {
      "cell_type": "code",
      "source": [
        "userInput = int(input(\"Bir sayı giriniz....\"))\n",
        "if userInput < 0 or userInput > 20:\n",
        "  print(\"Hata!!!\")\n",
        "else:\n",
        "  for row in range(1,userInput +1):\n",
        "    for i in range(1,row+1):\n",
        "      print(f'{i} ', end= \"\")\n",
        "    \n",
        "    print()"
      ],
      "metadata": {
        "colab": {
          "base_uri": "https://localhost:8080/"
        },
        "id": "6sH6jMyTR4C1",
        "outputId": "2dd4ac93-cc7b-45b1-8add-d0c0b40a56b0"
      },
      "execution_count": null,
      "outputs": [
        {
          "output_type": "stream",
          "name": "stdout",
          "text": [
            "Bir sayı giriniz....10\n",
            "1 \n",
            "1 2 \n",
            "1 2 3 \n",
            "1 2 3 4 \n",
            "1 2 3 4 5 \n",
            "1 2 3 4 5 6 \n",
            "1 2 3 4 5 6 7 \n",
            "1 2 3 4 5 6 7 8 \n",
            "1 2 3 4 5 6 7 8 9 \n",
            "1 2 3 4 5 6 7 8 9 10 \n"
          ]
        }
      ]
    },
    {
      "cell_type": "markdown",
      "source": [
        "**Soru 10**\n",
        "\n",
        "Kullanicidan q harfini girene kadar tekrarli olarak 0-10 araliginda sayi girmesini isteyin, ve her girdigi sayi ile ustteki soruda bulunan piramit desenenini devam ettirin. q harfi input olarak alindiginda piramit sonlandi yazisini bastirin.\n",
        "NOT: Kullanicinin sadece q ve 0-10 araligindaki sayilari girecegi varsayimina uyabilirsiniz."
      ],
      "metadata": {
        "id": "rMwfNxJnWcQa"
      }
    },
    {
      "cell_type": "markdown",
      "source": [
        "![image.png](data:image/png;base64,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)"
      ],
      "metadata": {
        "id": "8OocXV1hWeii"
      }
    },
    {
      "cell_type": "code",
      "source": [
        "while True:\n",
        "  userInput = input('0-10 arasında bir sayi giriniz...')\n",
        "  if userInput == 'q':\n",
        "    break\n",
        "  userInput = int(userInput)\n",
        "  if userInput < 0 or userInput > 20:\n",
        "   print(\"Hata!!!\")\n",
        "  else:\n",
        "   for row in range(1,userInput +1):\n",
        "    for i in range(1,row+1):\n",
        "      print(f'{i} ', end= \"\")\n",
        "    \n",
        "    print()\n",
        "\n",
        "  \n"
      ],
      "metadata": {
        "colab": {
          "base_uri": "https://localhost:8080/"
        },
        "id": "C1tPdvcgSwFk",
        "outputId": "92e33b6f-6ee4-4586-d90b-9cc9aefe8262"
      },
      "execution_count": null,
      "outputs": [
        {
          "name": "stdout",
          "output_type": "stream",
          "text": [
            "0-10 arasında bir sayi giriniz...5\n",
            "1 \n",
            "1 2 \n",
            "1 2 3 \n",
            "1 2 3 4 \n",
            "1 2 3 4 5 \n",
            "0-10 arasında bir sayi giriniz...3\n",
            "1 \n",
            "1 2 \n",
            "1 2 3 \n",
            "0-10 arasında bir sayi giriniz...4\n",
            "1 \n",
            "1 2 \n",
            "1 2 3 \n",
            "1 2 3 4 \n",
            "0-10 arasında bir sayi giriniz...q\n"
          ]
        }
      ]
    },
    {
      "cell_type": "markdown",
      "source": [
        "**Soru 11**\n",
        "\n",
        "Kullanicidan 10 kez ard arda sayi isteyin. Girilen sayilardan en buyugunu, en kucugunu ve girilen sayilarin ortalamasini print ettirin."
      ],
      "metadata": {
        "id": "XF89KysCWmim"
      }
    },
    {
      "cell_type": "code",
      "source": [
        "total = 0\n",
        "counter = 10\n",
        "enbuyuk = enkucuk = None\n",
        "for i in range(10):\n",
        "   sayi=int(input(\"10 adet sayi giriniz :\"))\n",
        "   if enbuyuk is None or  sayi > enbuyuk:\n",
        "    enbuyuk = sayi\n",
        "\n",
        "   if enkucuk is None or sayi < enkucuk:\n",
        "    enkucuk = sayi\n",
        "  \n",
        "   total += sayi\n",
        "\n",
        "print(f'Toplam: {total}')\n",
        "print(f'En kucuk: {enkucuk}')\n",
        "print(f'En buyuk: {enbuyuk}')\n",
        "print(f'Ortalama: {total/counter if counter > 0 else 0}')\n"
      ],
      "metadata": {
        "colab": {
          "base_uri": "https://localhost:8080/"
        },
        "id": "J7ssplfVWeDp",
        "outputId": "e49fe589-e509-4bc2-8bfe-191c682a8904"
      },
      "execution_count": null,
      "outputs": [
        {
          "output_type": "stream",
          "name": "stdout",
          "text": [
            "10 adet sayi giriniz :1\n",
            "10 adet sayi giriniz :2\n",
            "10 adet sayi giriniz :3\n",
            "10 adet sayi giriniz :4\n",
            "10 adet sayi giriniz :5\n",
            "10 adet sayi giriniz :6\n",
            "10 adet sayi giriniz :7\n",
            "10 adet sayi giriniz :3\n",
            "10 adet sayi giriniz :4\n",
            "10 adet sayi giriniz :2\n",
            "Toplam: 37\n",
            "En kucuk: 1\n",
            "En buyuk: 7\n",
            "Ortalama: 3.7\n"
          ]
        }
      ]
    },
    {
      "cell_type": "markdown",
      "source": [
        "**Soru 12**\n",
        "\n",
        "Alttaki deseni oluşturun"
      ],
      "metadata": {
        "id": "dW-MboC6WVo-"
      }
    },
    {
      "cell_type": "markdown",
      "source": [
        "![image.png](data:image/png;base64,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)"
      ],
      "metadata": {
        "id": "J254_S0NWTL2"
      }
    },
    {
      "cell_type": "code",
      "source": [
        "a = int(input(\"sayı giriniz: \"))\n",
        "for j in range(0 , a+1):\n",
        "  if j%2==1:\n",
        "    print(\"*\"*j)\n",
        "  else:\n",
        "    print(\" \"*(j-2) , \"*\"*j)\n"
      ],
      "metadata": {
        "colab": {
          "base_uri": "https://localhost:8080/"
        },
        "id": "6bPV5qR2WUfx",
        "outputId": "dc2172b5-139d-4b79-b370-4596bba65b5e"
      },
      "execution_count": null,
      "outputs": [
        {
          "output_type": "stream",
          "name": "stdout",
          "text": [
            "sayı giriniz: 10\n",
            " \n",
            "*\n",
            " **\n",
            "***\n",
            "   ****\n",
            "*****\n",
            "     ******\n",
            "*******\n",
            "       ********\n",
            "*********\n",
            "         **********\n"
          ]
        }
      ]
    },
    {
      "cell_type": "markdown",
      "source": [
        "**Soru 13**\n",
        "\n",
        "Hint: zip()\n",
        "\n",
        "Alttaki deseni for dongusu kullanarak olusturunuz. Ipucu: Zip() yapisini kullaniniz."
      ],
      "metadata": {
        "id": "oRfwVAjhBTtc"
      }
    },
    {
      "cell_type": "markdown",
      "source": [
        "![image.png](data:image/png;base64,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)"
      ],
      "metadata": {
        "id": "p6fgYwj-Bb5-"
      }
    },
    {
      "cell_type": "code",
      "source": [
        "rowCount = int(input('Deger Giriniz'))\n",
        "\n",
        "for i,j in zip(range(0,rowCount,2),range(rowCount,0,2)):\n",
        "  print('X'* i,'|','X'*j,''* (rowCount -j),'X'*j)"
      ],
      "metadata": {
        "id": "Ab2gy9l9dF1V"
      },
      "execution_count": null,
      "outputs": []
    },
    {
      "cell_type": "markdown",
      "source": [
        "**Soru 14**\n",
        "\n",
        "100'den 205'e kadar olan sayilari sirasiyla print ettirin. Fakat 4. siradaki ve kaylarindaki sayilari print ettirmeyin.**kalın metin**\n",
        "Alttaki deseni olusturun."
      ],
      "metadata": {
        "id": "BvdaM4ikBxOt"
      }
    },
    {
      "cell_type": "markdown",
      "source": [
        "![image.png](data:image/png;base64,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)"
      ],
      "metadata": {
        "id": "8KJovpfDB1eU"
      }
    },
    {
      "cell_type": "code",
      "source": [
        "rowCounter = 1\n",
        "for sayi in range(100,201,5):\n",
        "   if rowCounter %4 == 0:\n",
        "     print(\"Bunu print ettirmeyin\")\n",
        "   else:\n",
        "      print(rowCounter,sayi)\n",
        "   rowCounter +=1"
      ],
      "metadata": {
        "colab": {
          "base_uri": "https://localhost:8080/"
        },
        "id": "pUZwPp-0B2i4",
        "outputId": "2569e155-2185-4851-bfe8-bb71d6cd4cce"
      },
      "execution_count": null,
      "outputs": [
        {
          "output_type": "stream",
          "name": "stdout",
          "text": [
            "1 100\n",
            "2 105\n",
            "3 110\n",
            "Bunu print ettirmeyin\n",
            "5 120\n",
            "6 125\n",
            "7 130\n",
            "Bunu print ettirmeyin\n",
            "9 140\n",
            "10 145\n",
            "11 150\n",
            "Bunu print ettirmeyin\n",
            "13 160\n",
            "14 165\n",
            "15 170\n",
            "Bunu print ettirmeyin\n",
            "17 180\n",
            "18 185\n",
            "19 190\n",
            "Bunu print ettirmeyin\n",
            "21 200\n"
          ]
        }
      ]
    }
  ]
}