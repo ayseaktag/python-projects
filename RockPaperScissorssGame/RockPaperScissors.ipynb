{
  "nbformat": 4,
  "nbformat_minor": 0,
  "metadata": {
    "colab": {
      "name": "RockPaperScissors.ipynb",
      "provenance": []
    },
    "kernelspec": {
      "name": "python3",
      "display_name": "Python 3"
    },
    "language_info": {
      "name": "python"
    }
  },
  "cells": [
    {
      "cell_type": "markdown",
      "source": [
        "TAŞ KAĞIT MAKAS OYUNU"
      ],
      "metadata": {
        "id": "MesbH3S8Sc-d"
      }
    },
    {
      "cell_type": "code",
      "execution_count": 1,
      "metadata": {
        "colab": {
          "base_uri": "https://localhost:8080/",
          "height": 0
        },
        "id": "EK-9MQZNSbC5",
        "outputId": "9caf655b-de6a-4145-9596-9b9711d6ddb7"
      },
      "outputs": [
        {
          "output_type": "stream",
          "name": "stdout",
          "text": [
            "Taş Kağıt Makas Oyunumuza Hoş Geldiniz!\n",
            "---------------------------------------\n",
            "\n",
            " 1 -> Taş\n",
            " 2 -> Kağıt\n",
            " 3 -> Makas\n",
            " Oyundan çıkmak isterseniz bu değerler dışında bir değer giriniz\n",
            "Seçiminizi Yapınız: 1\n",
            "Berabere, yeniden oynayınız\n",
            "\n",
            " 1 -> Taş\n",
            " 2 -> Kağıt\n",
            " 3 -> Makas\n",
            " Oyundan çıkmak isterseniz bu değerler dışında bir değer giriniz\n",
            "Seçiminizi Yapınız: 2\n",
            "Bilgisayarın Seçimi: 3\n",
            "Kazanan: Bilgisayar\n",
            "\n",
            " 1 -> Taş\n",
            " 2 -> Kağıt\n",
            " 3 -> Makas\n",
            " Oyundan çıkmak isterseniz bu değerler dışında bir değer giriniz\n",
            "Seçiminizi Yapınız: 3\n",
            "Berabere, yeniden oynayınız\n",
            "\n",
            " 1 -> Taş\n",
            " 2 -> Kağıt\n",
            " 3 -> Makas\n",
            " Oyundan çıkmak isterseniz bu değerler dışında bir değer giriniz\n",
            "Seçiminizi Yapınız: 3\n",
            "Bilgisayarın Seçimi: 2\n",
            "Kazanan: Kullanıcı\n",
            "\n",
            " 1 -> Taş\n",
            " 2 -> Kağıt\n",
            " 3 -> Makas\n",
            " Oyundan çıkmak isterseniz bu değerler dışında bir değer giriniz\n",
            "Seçiminizi Yapınız: 3\n",
            "Bilgisayarın Seçimi: 2\n",
            "Kazanan: Kullanıcı\n",
            "\n",
            " 1 -> Taş\n",
            " 2 -> Kağıt\n",
            " 3 -> Makas\n",
            " Oyundan çıkmak isterseniz bu değerler dışında bir değer giriniz\n",
            "Seçiminizi Yapınız: 1\n",
            "Berabere, yeniden oynayınız\n",
            "\n",
            " 1 -> Taş\n",
            " 2 -> Kağıt\n",
            " 3 -> Makas\n",
            " Oyundan çıkmak isterseniz bu değerler dışında bir değer giriniz\n",
            "Seçiminizi Yapınız: 4\n",
            "\n",
            "Kullanıcı skoru: 200\n",
            "Bilgisayarın skoru: 100\n",
            "Kullanıcı 100 farkla bilgisayarı yenmiştir!\n"
          ]
        }
      ],
      "source": [
        "import random\n",
        "\n",
        "player_score, computer_score = 0, 0\n",
        "computer_choise = 1\n",
        "\n",
        "def print_result(computer_choice, winner = \"Bilgisayar\"):\n",
        "    global computer_score,player_score\n",
        "    print(f'Bilgisayarın Seçimi: {computer_choice}\\nKazanan: {winner}')\n",
        "\n",
        "    if winner == \"Bilgisayar\":\n",
        "        computer_score += 100\n",
        "    else:\n",
        "        player_score += 100\n",
        "\n",
        "print(\"Taş Kağıt Makas Oyunumuza Hoş Geldiniz!\\n\" + (\"-\" * 39))\n",
        "\n",
        "while True:\n",
        "    print(\"\\n 1 -> Taş\\n 2 -> Kağıt\\n 3 -> Makas\\n Oyundan çıkmak isterseniz bu değerler dışında bir değer giriniz\")\n",
        "    player_choice = int(input(\"Seçiminizi Yapınız: \"))\n",
        "    computer_choice = random.choice([1, 2, 3])\n",
        "    \n",
        "    if player_choice == computer_choice:\n",
        "        print(\"Berabere, yeniden oynayınız\")\n",
        "    elif player_choice == 1:\n",
        "        if computer_choice == 2:\n",
        "            print_result(computer_choice)\n",
        "        else:\n",
        "            print_result(computer_choice, \"Kullanıcı\")\n",
        "    elif player_choice == 2:\n",
        "        if computer_choice == 1:\n",
        "            print_result(computer_choice, \"Kullanıcı\")\n",
        "        else:\n",
        "            print_result(computer_choice)\n",
        "    elif player_choice == 3:\n",
        "        if computer_choice == 1:\n",
        "            print_result(computer_choice)\n",
        "        else:\n",
        "            print_result(computer_choice, \"Kullanıcı\")\n",
        "    else:\n",
        "        break\n",
        "\n",
        "print(f'\\nKullanıcı skoru: {player_score}\\nBilgisayarın skoru: {computer_score}')\n",
        "\n",
        "if player_score < computer_score:\n",
        "    print(f'Kullanıcı {computer_score - player_score} fark ile bilgisayara yenilmiştir!')\n",
        "elif player_score > computer_score:\n",
        "    print(f'Kullanıcı {player_score -computer_score} farkla bilgisayarı yenmiştir!')\n",
        "else:\n",
        "    print(f'Berabere kalınmıştır!')\n",
        "        "
      ]
    }
  ]
}