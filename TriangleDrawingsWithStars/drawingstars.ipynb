{
  "nbformat": 4,
  "nbformat_minor": 0,
  "metadata": {
    "colab": {
      "name": "drawingstars.ipynb",
      "provenance": [],
      "collapsed_sections": []
    },
    "kernelspec": {
      "name": "python3",
      "display_name": "Python 3"
    },
    "language_info": {
      "name": "python"
    }
  },
  "cells": [
    {
      "cell_type": "markdown",
      "source": [
        "Örnek 1: 1'den 5'e kadar yıldızlarla sola dayalı dik üçgen çizdirelim:"
      ],
      "metadata": {
        "id": "0PCbxTH4NT7B"
      }
    },
    {
      "cell_type": "code",
      "execution_count": 1,
      "metadata": {
        "colab": {
          "base_uri": "https://localhost:8080/"
        },
        "id": "jl_VRdITNSD-",
        "outputId": "c46f25f4-9596-4842-c587-ebc95555941d"
      },
      "outputs": [
        {
          "output_type": "stream",
          "name": "stdout",
          "text": [
            "*\n",
            "**\n",
            "***\n",
            "****\n",
            "*****\n"
          ]
        }
      ],
      "source": [
        "rows = 5\n",
        "for i in range(1, rows+1):\n",
        "  print(\"*\" * i)"
      ]
    },
    {
      "cell_type": "markdown",
      "source": [
        "Örnek2:Üçgenin tabanı yukarıda olacak şekilde sola dayalı dik üçgen çizdirelim:"
      ],
      "metadata": {
        "id": "DtqqgTMDNhxA"
      }
    },
    {
      "cell_type": "code",
      "source": [
        "rows = 5\n",
        "for i in range(rows, 0, -1):\n",
        "  print(\"*\" * i)"
      ],
      "metadata": {
        "colab": {
          "base_uri": "https://localhost:8080/"
        },
        "id": "TK5cH4yDNjn5",
        "outputId": "f78b1714-813c-4e8a-d2ca-e5c198d0d242"
      },
      "execution_count": 6,
      "outputs": [
        {
          "output_type": "stream",
          "name": "stdout",
          "text": [
            "*****\n",
            "****\n",
            "***\n",
            "**\n",
            "*\n"
          ]
        }
      ]
    },
    {
      "cell_type": "markdown",
      "source": [
        "Örnek 3: Sağa dayalı dik üçgen çizdirelim:"
      ],
      "metadata": {
        "id": "LliIGRTvNqI9"
      }
    },
    {
      "cell_type": "code",
      "source": [
        "rows = 5\n",
        "for i in range(1, rows+1):\n",
        "  print(\" \"*(rows - i)+ \"*\" * i)"
      ],
      "metadata": {
        "colab": {
          "base_uri": "https://localhost:8080/"
        },
        "id": "rkPqh5ecNm2w",
        "outputId": "cde02e17-0ea0-4374-bc17-b28becc90d45"
      },
      "execution_count": 3,
      "outputs": [
        {
          "output_type": "stream",
          "name": "stdout",
          "text": [
            "    *\n",
            "   **\n",
            "  ***\n",
            " ****\n",
            "*****\n"
          ]
        }
      ]
    },
    {
      "cell_type": "markdown",
      "source": [
        "Örnek 4: Tabanı yukarıda olacak şekilde sağa dayalı üçgen çizdirelim:"
      ],
      "metadata": {
        "id": "rQP_b4qQN0Fh"
      }
    },
    {
      "cell_type": "code",
      "source": [
        "rows = 5\n",
        "for i in range(rows, 0, -1):\n",
        "  print(\" \"*(rows - i)+ \"*\" * i)"
      ],
      "metadata": {
        "colab": {
          "base_uri": "https://localhost:8080/"
        },
        "id": "pkSncDH-N2fv",
        "outputId": "58504f89-6911-4f23-8e7d-3d0a6dc471f1"
      },
      "execution_count": 4,
      "outputs": [
        {
          "output_type": "stream",
          "name": "stdout",
          "text": [
            "*****\n",
            " ****\n",
            "  ***\n",
            "   **\n",
            "    *\n"
          ]
        }
      ]
    },
    {
      "cell_type": "markdown",
      "source": [
        "Örnek 5: Üçgen piramit çizdirelim:\n",
        "\n"
      ],
      "metadata": {
        "id": "rfDZQxNaN8Tf"
      }
    },
    {
      "cell_type": "code",
      "source": [
        "for i in range(5):\n",
        "    for k in range(-6, -i):\n",
        "        print(\" \", end=\"\")\n",
        "    for j in range(i+1):\n",
        "        print(\"* \", end=\"\")\n",
        "    print()"
      ],
      "metadata": {
        "colab": {
          "base_uri": "https://localhost:8080/"
        },
        "id": "-pz2bJu1N9Z1",
        "outputId": "ce24874e-c0b8-4f0d-a975-c07d75ff3284"
      },
      "execution_count": 5,
      "outputs": [
        {
          "output_type": "stream",
          "name": "stdout",
          "text": [
            "      * \n",
            "     * * \n",
            "    * * * \n",
            "   * * * * \n",
            "  * * * * * \n"
          ]
        }
      ]
    }
  ]
}