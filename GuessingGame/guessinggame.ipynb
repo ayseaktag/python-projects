{
  "nbformat": 4,
  "nbformat_minor": 0,
  "metadata": {
    "colab": {
      "name": "guessinggame.ipynb",
      "provenance": []
    },
    "kernelspec": {
      "name": "python3",
      "display_name": "Python 3"
    },
    "language_info": {
      "name": "python"
    }
  },
  "cells": [
    {
      "cell_type": "code",
      "execution_count": 3,
      "metadata": {
        "colab": {
          "base_uri": "https://localhost:8080/",
          "height": 0
        },
        "id": "qqfD-9BoO9db",
        "outputId": "73a00402-a585-4a3d-b2f5-d4c21fdabc4e"
      },
      "outputs": [
        {
          "output_type": "stream",
          "name": "stdout",
          "text": [
            "Sayı tahmin oyunu için bir tahminde bulunun: 35\n",
            "Daha küçük bir sayı tahmininde bulunmalıydınız!\n",
            "Sayı tahmin oyunu için bir tahminde bulunun: 30\n",
            "Daha küçük bir sayı tahmininde bulunmalıydınız!\n",
            "Sayı tahmin oyunu için bir tahminde bulunun: 14\n",
            "Daha büyük bir sayı tahmininde bulunmalıydınız!\n",
            "Sayı tahmin oyunu için bir tahminde bulunun: 27\n",
            "Daha büyük bir sayı tahmininde bulunmalıydınız!\n",
            "Sayı tahmin oyunu için bir tahminde bulunun: 28\n",
            "Tebrikler,doğru tahmin ettiniz!\n"
          ]
        }
      ],
      "source": [
        "def guess(num):\n",
        "    count = 1\n",
        "    random_number = int(input(\"Sayı tahmin oyunu için bir tahminde bulunun: \"))\n",
        "    while num != random_number:\n",
        "        if num< random_number:\n",
        "            print(\"Daha küçük bir sayı tahmininde bulunmalıydınız!\")\n",
        "        elif num> random_number:\n",
        "            print(\"Daha büyük bir sayı tahmininde bulunmalıydınız!\")\n",
        "        random_number = int(input(\"Sayı tahmin oyunu için bir tahminde bulunun: \"))\n",
        "    else:\n",
        "         print(\"Tebrikler,doğru tahmin ettiniz!\")\n",
        "        \n",
        "guess(28)\n",
        "    "
      ]
    },
    {
      "cell_type": "code",
      "source": [
        "import random\n",
        "def guess(num):\n",
        "    count = 1\n",
        "    random_number = int(input(\"Sayı tahmin oyunu için bir tahminde bulunun\"))\n",
        "    while num != random_number:\n",
        "        if num< random_number:\n",
        "            print(\"Daha küçük bir sayı tahmininde bulunmalıydın!\")\n",
        "        elif num> random_number:\n",
        "            print(\"Daha büyük bir sayı tahmininde bulunmalıydın!\")\n",
        "        random_number = int(input(\"Sayı tahmin oyunu için bir tahminde bulunun\"))\n",
        "    else:\n",
        "         print(\"Tebrikler,doğru tahmin ettiniz!\")\n",
        "        \n",
        "guess(random.randint(1,100))\n",
        "    "
      ],
      "metadata": {
        "colab": {
          "base_uri": "https://localhost:8080/",
          "height": 0
        },
        "id": "Kf8J1d3BPiWr",
        "outputId": "ef2f87ab-241e-4f9c-d6b5-e3e98131fe25"
      },
      "execution_count": 4,
      "outputs": [
        {
          "output_type": "stream",
          "name": "stdout",
          "text": [
            "Sayı tahmin oyunu için bir tahminde bulunun34\n",
            "Daha büyük bir sayı tahmininde bulunmalıydın!\n",
            "Sayı tahmin oyunu için bir tahminde bulunun26\n",
            "Daha büyük bir sayı tahmininde bulunmalıydın!\n",
            "Sayı tahmin oyunu için bir tahminde bulunun49\n",
            "Daha büyük bir sayı tahmininde bulunmalıydın!\n",
            "Sayı tahmin oyunu için bir tahminde bulunun78\n",
            "Daha küçük bir sayı tahmininde bulunmalıydın!\n",
            "Sayı tahmin oyunu için bir tahminde bulunun60\n",
            "Daha büyük bir sayı tahmininde bulunmalıydın!\n",
            "Sayı tahmin oyunu için bir tahminde bulunun61\n",
            "Daha büyük bir sayı tahmininde bulunmalıydın!\n",
            "Sayı tahmin oyunu için bir tahminde bulunun63\n",
            "Daha büyük bir sayı tahmininde bulunmalıydın!\n",
            "Sayı tahmin oyunu için bir tahminde bulunun68\n",
            "Daha büyük bir sayı tahmininde bulunmalıydın!\n",
            "Sayı tahmin oyunu için bir tahminde bulunun69\n",
            "Daha büyük bir sayı tahmininde bulunmalıydın!\n",
            "Sayı tahmin oyunu için bir tahminde bulunun70\n",
            "Daha büyük bir sayı tahmininde bulunmalıydın!\n",
            "Sayı tahmin oyunu için bir tahminde bulunun72\n",
            "Daha küçük bir sayı tahmininde bulunmalıydın!\n",
            "Sayı tahmin oyunu için bir tahminde bulunun71\n",
            "Tebrikler,doğru tahmin ettiniz!\n"
          ]
        }
      ]
    }
  ]
}