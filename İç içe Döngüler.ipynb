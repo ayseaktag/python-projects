{
  "cells": [
    {
      "cell_type": "markdown",
      "metadata": {
        "id": "uoPnv1qvPEYa"
      },
      "source": [
        "**2.HAFTA**"
      ]
    },
    {
      "cell_type": "markdown",
      "metadata": {
        "id": "VRlKwB_CSfoS"
      },
      "source": [
        "**Yıldız Biçimleri**\n",
        "\n"
      ]
    },
    {
      "cell_type": "code",
      "execution_count": null,
      "metadata": {
        "colab": {
          "base_uri": "https://localhost:8080/"
        },
        "id": "vXmVEmzKOudi",
        "outputId": "13df5fce-07ce-43b1-ea48-adf632f2795d"
      },
      "outputs": [
        {
          "name": "stdout",
          "output_type": "stream",
          "text": [
            "*\n",
            "**\n",
            "***\n",
            "****\n",
            "*****\n"
          ]
        }
      ],
      "source": [
        "rows = 5\n",
        "for i in range(0, rows):\n",
        "  for j in range(0, i+1):\n",
        "    print(\"*\", end=\"\")\n",
        "  print()"
      ]
    },
    {
      "cell_type": "code",
      "execution_count": null,
      "metadata": {
        "colab": {
          "base_uri": "https://localhost:8080/"
        },
        "id": "wAkW2wFQTjjZ",
        "outputId": "5b67b216-1b7b-4800-f8e7-bba7b258b837"
      },
      "outputs": [
        {
          "name": "stdout",
          "output_type": "stream",
          "text": [
            "*\n",
            "**\n",
            "***\n",
            "****\n",
            "*****\n"
          ]
        }
      ],
      "source": [
        "rows = 5\n",
        "for i in range(1, rows+1):\n",
        "  print(\"*\" * i)"
      ]
    },
    {
      "cell_type": "code",
      "execution_count": null,
      "metadata": {
        "colab": {
          "base_uri": "https://localhost:8080/"
        },
        "id": "k6Wd9uPkUFBg",
        "outputId": "b580f79c-6c12-4595-b42d-bdff90d3d18f"
      },
      "outputs": [
        {
          "name": "stdout",
          "output_type": "stream",
          "text": [
            "*****\n",
            "****\n",
            "***\n",
            "**\n",
            "*\n"
          ]
        }
      ],
      "source": [
        "rows = 5\n",
        "for i in range(rows, 0, -1):\n",
        "  for j in range(0, i):\n",
        "    print(\"*\", end=\"\")\n",
        "  print()"
      ]
    },
    {
      "cell_type": "code",
      "execution_count": null,
      "metadata": {
        "colab": {
          "base_uri": "https://localhost:8080/"
        },
        "id": "6k4aIL2fUwu3",
        "outputId": "e8903fdd-ba96-4d35-b83d-d2cdff1f70be"
      },
      "outputs": [
        {
          "name": "stdout",
          "output_type": "stream",
          "text": [
            "*****\n",
            "****\n",
            "***\n",
            "**\n",
            "*\n"
          ]
        }
      ],
      "source": [
        "rows = 5\n",
        "for i in range(rows, 0, -1):\n",
        "  print(\"*\" * i)"
      ]
    },
    {
      "cell_type": "code",
      "execution_count": null,
      "metadata": {
        "colab": {
          "base_uri": "https://localhost:8080/"
        },
        "id": "W0zCOayAVp00",
        "outputId": "5859a486-631b-4e4e-b7f8-cc51546e3515"
      },
      "outputs": [
        {
          "name": "stdout",
          "output_type": "stream",
          "text": [
            "     *\n",
            "    **\n",
            "   ***\n",
            "  ****\n",
            " *****\n"
          ]
        }
      ],
      "source": [
        "rows = 5\n",
        "for i in range(0, rows):\n",
        "  for j in range(0, i+1):\n",
        "    if j == 0:\n",
        "      print(\" \"*(rows - i)+ \"*\", end=\"\")\n",
        "    else: print(\"*\", end=\"\")\n",
        "  print()"
      ]
    },
    {
      "cell_type": "code",
      "execution_count": null,
      "metadata": {
        "colab": {
          "base_uri": "https://localhost:8080/"
        },
        "id": "JsU5BERcYtcw",
        "outputId": "daaf5e2e-6a97-45d4-b7a5-24c7f4b4c1c5"
      },
      "outputs": [
        {
          "name": "stdout",
          "output_type": "stream",
          "text": [
            "    *\n",
            "   **\n",
            "  ***\n",
            " ****\n",
            "*****\n"
          ]
        }
      ],
      "source": [
        "rows = 5\n",
        "for i in range(1, rows+1):\n",
        "  print(\" \"*(rows - i)+ \"*\" * i)"
      ]
    },
    {
      "cell_type": "code",
      "execution_count": null,
      "metadata": {
        "colab": {
          "base_uri": "https://localhost:8080/"
        },
        "id": "IszAaBF5aNlp",
        "outputId": "f1d9db5f-7772-468d-8f36-fdee00b9dc61"
      },
      "outputs": [
        {
          "name": "stdout",
          "output_type": "stream",
          "text": [
            "*****\n",
            " ****\n",
            "  ***\n",
            "   **\n",
            "    *\n"
          ]
        }
      ],
      "source": [
        "rows = 5\n",
        "for i in range(rows, 0, -1):\n",
        "  for j in range(0, i):\n",
        "    if j == 0:\n",
        "      print(\" \"*(rows - i)+ \"*\", end=\"\")\n",
        "    else: print(\"*\", end=\"\")\n",
        "  print()"
      ]
    },
    {
      "cell_type": "code",
      "execution_count": null,
      "metadata": {
        "colab": {
          "base_uri": "https://localhost:8080/"
        },
        "id": "HD6WzIEMeK26",
        "outputId": "4a7f594e-6b46-4b91-8a82-c7d0ab3d0681"
      },
      "outputs": [
        {
          "name": "stdout",
          "output_type": "stream",
          "text": [
            "*****\n",
            " ****\n",
            "  ***\n",
            "   **\n",
            "    *\n"
          ]
        }
      ],
      "source": [
        "rows = 5\n",
        "for i in range(rows, 0, -1):\n",
        "  print(\" \"*(rows - i)+ \"*\" * i)"
      ]
    },
    {
      "cell_type": "code",
      "execution_count": null,
      "metadata": {
        "colab": {
          "base_uri": "https://localhost:8080/"
        },
        "id": "rgS0cc0Ug1AI",
        "outputId": "4d659a32-f179-481b-c03c-b1a063cf0cac"
      },
      "outputs": [
        {
          "name": "stdout",
          "output_type": "stream",
          "text": [
            "      * \n",
            "     * * \n",
            "    * * * \n",
            "   * * * * \n",
            "  * * * * * \n"
          ]
        }
      ],
      "source": [
        "for i in range(5):\n",
        "    for k in range(-6, -i):\n",
        "        print(\" \", end=\"\")\n",
        "    for j in range(i+1):\n",
        "        print(\"* \", end=\"\")\n",
        "    print()\n",
        "\n"
      ]
    },
    {
      "cell_type": "code",
      "execution_count": null,
      "metadata": {
        "colab": {
          "base_uri": "https://localhost:8080/"
        },
        "id": "bgYu7sHulrQF",
        "outputId": "e0a3525f-1fe5-49d0-e3ac-d53bca017fcb"
      },
      "outputs": [
        {
          "name": "stdout",
          "output_type": "stream",
          "text": [
            "* * * * * \n",
            " * * * * \n",
            "  * * * \n",
            "   * * \n",
            "    * \n"
          ]
        }
      ],
      "source": [
        "for i in range(5):\n",
        "    for s in range(i):\n",
        "        print(\" \", end=\"\")\n",
        "    for j in range(i, 5):\n",
        "        print(\"* \", end=\"\")\n",
        "    print()"
      ]
    },
    {
      "cell_type": "code",
      "execution_count": null,
      "metadata": {
        "colab": {
          "base_uri": "https://localhost:8080/"
        },
        "id": "jXDJEVGjgMQK",
        "outputId": "2ffe8246-2ae7-4469-9c35-cf15f59a61da"
      },
      "outputs": [
        {
          "name": "stdout",
          "output_type": "stream",
          "text": [
            "    **\n",
            "   ****\n",
            "  ******\n",
            " ********\n",
            "**********\n"
          ]
        }
      ],
      "source": [
        "rows = 5\n",
        "for i in range(1, rows + 1):\n",
        "  print(\" \" * (rows - i) + \"*\"*i*2)"
      ]
    },
    {
      "cell_type": "code",
      "execution_count": null,
      "metadata": {
        "colab": {
          "base_uri": "https://localhost:8080/"
        },
        "id": "Y5orgR6Ghtyr",
        "outputId": "54f3e70a-9a4e-4498-861e-ba2b44021ec8"
      },
      "outputs": [
        {
          "name": "stdout",
          "output_type": "stream",
          "text": [
            "Lütfen bir sayı giriniz: 10\n",
            "Sayıların toplamı: 0\n",
            "0 ile 10 arasındaki sayıların toplamı: 0\n",
            "Sayıların toplamı: 1\n",
            "0 ile 10 arasındaki sayıların toplamı: 1\n",
            "Sayıların toplamı: 3\n",
            "0 ile 10 arasındaki sayıların toplamı: 3\n",
            "Sayıların toplamı: 6\n",
            "0 ile 10 arasındaki sayıların toplamı: 6\n",
            "Sayıların toplamı: 10\n",
            "0 ile 10 arasındaki sayıların toplamı: 10\n",
            "Sayıların toplamı: 15\n",
            "0 ile 10 arasındaki sayıların toplamı: 15\n",
            "Sayıların toplamı: 21\n",
            "0 ile 10 arasındaki sayıların toplamı: 21\n",
            "Sayıların toplamı: 28\n",
            "0 ile 10 arasındaki sayıların toplamı: 28\n",
            "Sayıların toplamı: 36\n",
            "0 ile 10 arasındaki sayıların toplamı: 36\n",
            "Sayıların toplamı: 45\n",
            "0 ile 10 arasındaki sayıların toplamı: 45\n",
            "Sayıların toplamı: 55\n",
            "0 ile 10 arasındaki sayıların toplamı: 55\n"
          ]
        }
      ],
      "source": [
        "#kullanıcıdan bir sayı alıp ardından 0 ile o değer arasındaki sayıların toplamını \n",
        "#ekrana basan bir kod bloğu. Girilen değer dahil\n",
        "\n",
        "number = int(input(\"Lütfen bir sayı giriniz: \"))\n",
        "count = 0\n",
        "\n",
        "for i in range(number + 1):\n",
        "  count += i\n",
        "  \n",
        "  print(\"Sayıların toplamı:\", count)\n",
        "  print(\"0 ile {} arasındaki sayıların toplamı: {}\".format(number,count))\n",
        "  \n"
      ]
    },
    {
      "cell_type": "code",
      "execution_count": null,
      "metadata": {
        "colab": {
          "base_uri": "https://localhost:8080/"
        },
        "id": "2IS0LvsFrDvG",
        "outputId": "d1782f67-1270-4dab-9d2a-bc50990aa51d"
      },
      "outputs": [
        {
          "name": "stdout",
          "output_type": "stream",
          "text": [
            "Lütfen bir sayı giriniz: 10\n",
            "Continue\n",
            "Continue\n",
            "Continue\n",
            "Sayıların Toplamı (5'e bölünenler hariç: 40\n",
            "0 ile 10 arasındaki sayıların toplamı: 40 (5'e bölünenler hariç\n"
          ]
        }
      ],
      "source": [
        "#Toplama işlemi esnasında eğer o anki sayı\n",
        "#5'e tam bölünebilen bir sayıysa o değeri eklemeden işlemi yap\n",
        "#continue ifadesi kullanılacak\n",
        "\n",
        "number = int(input(\"Lütfen bir sayı giriniz: \"))\n",
        "count = 0\n",
        "\n",
        "for i in range(number+1):\n",
        "  if i % 5 != 0:\n",
        "    count +=i\n",
        "  else:\n",
        "    print(\"Continue\")\n",
        "    continue\n",
        "  \n",
        "\n",
        "print(\"Sayıların Toplamı (5'e bölünenler hariç:\", count)\n",
        "print(\"0 ile {} arasındaki sayıların toplamı: {} (5'e bölünenler hariç\".format(number,count))\n"
      ]
    },
    {
      "cell_type": "code",
      "execution_count": null,
      "metadata": {
        "colab": {
          "background_save": true
        },
        "id": "Kk13X786u2tU",
        "outputId": "ed39b234-4b4b-4917-9a23-e74cc2ac3aa7"
      },
      "outputs": [
        {
          "name": "stdout",
          "output_type": "stream",
          "text": [
            "Girdiğiniz sayının basamak sayısı: 4\n"
          ]
        }
      ],
      "source": [
        "#Bir sayının kaç basamaklı olduğunu bulalım.\n",
        "sayi_gir = abs(int(input(\"Lütfen basamak sayısını merak ettiğiniz sayıyı giriniz:\")))\n",
        "sayac = 0\n",
        " \n",
        "while sayi_gir>0:\n",
        "  sayi_gir = sayi_gir//10\n",
        "  sayac +=1\n",
        "  \n",
        "print (\"Girdiğiniz sayının basamak sayısı:\", sayac)  "
      ]
    },
    {
      "cell_type": "markdown",
      "source": [
        "Kullanıcıdan bir deger alıp ardından hem alt alta hem de yan yana yazdırın\n",
        "\n",
        "5 4 3 2 1\n",
        "\n",
        "4 3 2 1\n",
        "\n",
        "3 2 1 \n",
        "\n",
        "2 1\n",
        "\n",
        "1"
      ],
      "metadata": {
        "id": "NC25K_nLykbR"
      }
    },
    {
      "cell_type": "code",
      "source": [
        "a = int(input(\"Bir sayi giriniz:\"))\n",
        "\n",
        "for i in range(a, 0, -1):\n",
        "  for j in range(i,0,-1):\n",
        "    print(j, end=\" \")\n",
        "  print()"
      ],
      "metadata": {
        "colab": {
          "base_uri": "https://localhost:8080/"
        },
        "id": "F_4HqMK4ye6U",
        "outputId": "304fef7e-2605-4ec3-c572-778feea252fa"
      },
      "execution_count": null,
      "outputs": [
        {
          "output_type": "stream",
          "name": "stdout",
          "text": [
            "Bir sayi giriniz:5\n",
            "5 4 3 2 1 \n",
            "4 3 2 1 \n",
            "3 2 1 \n",
            "2 1 \n",
            "1 \n"
          ]
        }
      ]
    },
    {
      "cell_type": "code",
      "source": [
        "a = int(input(\"Bir sayi giriniz:\"))\n",
        "\n",
        "for i in range(0, a+1):\n",
        "  for j in range(a-i,0,-1):\n",
        "    print(j, end=\" \")\n",
        "  print()"
      ],
      "metadata": {
        "colab": {
          "base_uri": "https://localhost:8080/"
        },
        "id": "g-eAKwKp0Chq",
        "outputId": "37760e70-daa9-4de2-db1a-aab5d0bbf00c"
      },
      "execution_count": null,
      "outputs": [
        {
          "output_type": "stream",
          "name": "stdout",
          "text": [
            "Bir sayi giriniz:5\n",
            "5 4 3 2 1 \n",
            "4 3 2 1 \n",
            "3 2 1 \n",
            "2 1 \n",
            "1 \n",
            "\n"
          ]
        }
      ]
    },
    {
      "cell_type": "markdown",
      "source": [
        "Bir aralık belirleyip bu aralıktaki tüm asal sayıları ekrana basan kod blogu"
      ],
      "metadata": {
        "id": "J1YNbWa40cVH"
      }
    },
    {
      "cell_type": "code",
      "source": [
        "\n",
        " \n",
        "count=0\n",
        "num1 = int(input(\"Sayı 1: \"))\n",
        "num2 = int(input(\"Sayı 2: \"))\n",
        " \n",
        "print(num1,' ve ',num2,' Arasındaki Asal Sayılar:')\n",
        " \n",
        "for i in range(num1,num2 + 1):\n",
        "   if i > 1:\n",
        "       for j in range(2,i):\n",
        "           if(i % j) == 0:\n",
        "               break\n",
        "       else:\n",
        "           print(i)\n",
        "           count=count+1\n",
        "print('Verilen aralıkta {0} adet asal sayı var.'.format(count))\n",
        "\n",
        "\n",
        " "
      ],
      "metadata": {
        "colab": {
          "base_uri": "https://localhost:8080/"
        },
        "id": "BhRm95X60ruN",
        "outputId": "196dfe91-5a55-4df1-db50-21aedce1ae61"
      },
      "execution_count": null,
      "outputs": [
        {
          "output_type": "stream",
          "name": "stdout",
          "text": [
            "Sayı 1: 5\n",
            "Sayı 2: 15\n",
            "5  ve  15  Arasındaki Asal Sayılar:\n",
            "5\n",
            "7\n",
            "11\n",
            "13\n",
            "Verilen aralıkta 4 adet asal sayı var.\n"
          ]
        }
      ]
    },
    {
      "cell_type": "code",
      "source": [
        "start = 1\n",
        "end = 18\n",
        "print(\"{} ve {} arasındaki asal sayılar\". format(start,end))\n",
        "\n",
        "for i in range(start,end):\n",
        "  if i>1:\n",
        "    asal = True\n",
        "\n",
        "    for j in range(2,i):\n",
        "      if i % j ==0:\n",
        "        asal= False\n",
        "        break\n",
        "        \n",
        "      if asal: #if asal ==True\n",
        "        print(i)"
      ],
      "metadata": {
        "id": "IkMsWIUD1luf"
      },
      "execution_count": null,
      "outputs": []
    },
    {
      "cell_type": "markdown",
      "source": [
        "Girilen değere göre fibonacci seri hesaplaması yapalım"
      ],
      "metadata": {
        "id": "ZN7GPwMR4Cxk"
      }
    },
    {
      "cell_type": "markdown",
      "source": [
        "![resim_2022-05-21_121044154.png](data:image/png;base64,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)"
      ],
      "metadata": {
        "id": "GoMtZqic4hk-"
      }
    },
    {
      "cell_type": "markdown",
      "source": [
        "![resim_2022-05-21_121102510.png](data:image/png;base64,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)"
      ],
      "metadata": {
        "id": "vXGtsD7J4i4X"
      }
    },
    {
      "cell_type": "code",
      "source": [
        "num1, num2 =0, 1\n",
        "a=int(input(\"Bir deger giriniz:\"))\n",
        "for i in range(a+2):\n",
        "  print(num1, end= \" \")\n",
        "  total= num1 + num2\n",
        "\n",
        "  num1 = num2\n",
        "  num2 = total\n",
        "  \n",
        "\n"
      ],
      "metadata": {
        "colab": {
          "base_uri": "https://localhost:8080/"
        },
        "id": "3ZcVoZ1L7K5s",
        "outputId": "c31c53af-ad41-49cb-aafd-65199f5604aa"
      },
      "execution_count": null,
      "outputs": [
        {
          "output_type": "stream",
          "name": "stdout",
          "text": [
            "Bir deger giriniz:5\n",
            "0 1 1 2 3 5 8 "
          ]
        }
      ]
    },
    {
      "cell_type": "markdown",
      "source": [
        "Faktöriyel hesaplama"
      ],
      "metadata": {
        "id": "6pfHy8db4nTh"
      }
    },
    {
      "cell_type": "code",
      "source": [
        "num = int(input(\"Faktöriyeli Hesaplamak için sayı giriniz:\"))\n",
        "value = 1\n",
        "for i in range(num):\n",
        "    value = value * (i+1)\n",
        " \n",
        "print(\"Faktöriyel : \", value)\n",
        " "
      ],
      "metadata": {
        "colab": {
          "base_uri": "https://localhost:8080/"
        },
        "id": "tkHFXBI99etd",
        "outputId": "0131a111-19f0-4bb7-e1ba-7a3259425ac2"
      },
      "execution_count": null,
      "outputs": [
        {
          "output_type": "stream",
          "name": "stdout",
          "text": [
            "Faktöriyelini Hesaplamak için sayı giriniz:5\n",
            "Faktoriyel :  120\n"
          ]
        }
      ]
    },
    {
      "cell_type": "code",
      "source": [
        "num = int(input('Lütfen bir sayı giriniz : '))\n",
        "\n",
        "faktoriyel  = 1\n",
        "\n",
        "if num < 0:\n",
        "   print(\"Negatif bir sayı girmemelisiniz!\")\n",
        "elif num == 0:\n",
        "   print(\"0 sayısının faktoriyeli = 1'dir\")\n",
        "else:\n",
        "   for i in range(1,num + 1):\n",
        "       faktoriyel = faktoriyel*i\n",
        "   print(str(num) + ' Sayısının Faktöriyeli = ' + str(faktoriyel))"
      ],
      "metadata": {
        "colab": {
          "base_uri": "https://localhost:8080/"
        },
        "id": "w8UiOgdJ-AcF",
        "outputId": "9a2bf840-bccd-48b0-8e19-e74839f5fef7"
      },
      "execution_count": null,
      "outputs": [
        {
          "output_type": "stream",
          "name": "stdout",
          "text": [
            "Lütfen bir sayı giriniz : 6\n",
            "6 Sayısının Faktöriyeli = 720\n"
          ]
        }
      ]
    },
    {
      "cell_type": "markdown",
      "source": [
        "Girilen sayıyı tersine çeviren program"
      ],
      "metadata": {
        "id": "MH69QzxSAA6T"
      }
    },
    {
      "cell_type": "code",
      "source": [
        "4<=5"
      ],
      "metadata": {
        "colab": {
          "base_uri": "https://localhost:8080/"
        },
        "id": "jFF6yN42HhF7",
        "outputId": "1f0ce52e-5f78-41eb-c3a2-98dbc2ac904f"
      },
      "execution_count": null,
      "outputs": [
        {
          "output_type": "execute_result",
          "data": {
            "text/plain": [
              "True"
            ]
          },
          "metadata": {},
          "execution_count": 1
        }
      ]
    },
    {
      "cell_type": "code",
      "source": [
        "x= \"15\"\n",
        "y= x * 2\n",
        "\n",
        "print(y)"
      ],
      "metadata": {
        "colab": {
          "base_uri": "https://localhost:8080/"
        },
        "id": "9FfGBtn9Iiqk",
        "outputId": "38cbfc34-0afc-411e-fd6c-ba807dad8395"
      },
      "execution_count": null,
      "outputs": [
        {
          "output_type": "stream",
          "name": "stdout",
          "text": [
            "1515\n"
          ]
        }
      ]
    },
    {
      "cell_type": "code",
      "source": [
        "my_string = \"Turkcell Geleceği Yazanlar\"\n",
        "\n",
        "print(my_string[2:10:2])"
      ],
      "metadata": {
        "id": "5ESqR7UYIv3V",
        "outputId": "209ef844-ba2b-4acf-bd21-1b8adfcf8507",
        "colab": {
          "base_uri": "https://localhost:8080/"
        }
      },
      "execution_count": null,
      "outputs": [
        {
          "output_type": "stream",
          "name": "stdout",
          "text": [
            "rcl \n"
          ]
        }
      ]
    },
    {
      "cell_type": "code",
      "source": [
        "number = int(input(\"Sayı Giriniz : \"))    \n",
        "reverse = 0    \n",
        "while(number > 0):    \n",
        "    temp = number %10    \n",
        "    reverse = (reverse *10) + temp   \n",
        "    number = number //10    \n",
        "    print(\"Temp {} reverse {} number{}\".format(temp,reverse,number))\n",
        "     \n",
        "print(\"\\n Sayının Ters Çevrilmiş Hali = %d\" %reverse)"
      ],
      "metadata": {
        "colab": {
          "base_uri": "https://localhost:8080/"
        },
        "id": "aj07YJpJ__6w",
        "outputId": "b7c41b4e-e213-4d6a-9886-ec61ebecfc7b"
      },
      "execution_count": null,
      "outputs": [
        {
          "output_type": "stream",
          "name": "stdout",
          "text": [
            "Sayı Giriniz : 1234\n",
            "Temp 4 reverse 4 number123\n",
            "Temp 3 reverse 43 number12\n",
            "Temp 2 reverse 432 number1\n",
            "Temp 1 reverse 4321 number0\n",
            "\n",
            " Sayının Ters Çevrilmiş Hali = 4321\n"
          ]
        }
      ]
    }
  ],
  "metadata": {
    "colab": {
      "collapsed_sections": [],
      "name": "Untitled2.ipynb",
      "provenance": []
    },
    "kernelspec": {
      "display_name": "Python 3",
      "name": "python3"
    },
    "language_info": {
      "name": "python"
    }
  },
  "nbformat": 4,
  "nbformat_minor": 0
}